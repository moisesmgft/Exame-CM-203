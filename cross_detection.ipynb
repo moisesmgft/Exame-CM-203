{
 "cells": [
  {
   "cell_type": "code",
   "execution_count": 1,
   "metadata": {},
   "outputs": [],
   "source": [
    "import cv2"
   ]
  },
  {
   "cell_type": "code",
   "execution_count": 2,
   "metadata": {},
   "outputs": [],
   "source": [
    "def get_contours(image):\n",
    "    gray = cv2.cvtColor(image, cv2.COLOR_BGR2GRAY)\n",
    "    blur = cv2.GaussianBlur(gray, (7,7), 20)\n",
    "    # _, thresh = cv2.threshold(gray, 127, 255, 0)\n",
    "\n",
    "    edged = cv2.Canny(blur,40,100,L2gradient=True)\n",
    "    dilated = cv2.dilate(edged, (7,7), iterations=4)\n",
    "\n",
    "    # cv::Mat structuringElement = cv::getStructuringElement(cv::MORPH_ELLIPSE, cv::Size(40, 40));\n",
    "    # cv::morphologyEx( inputImage, outputImage, cv::MORPH_CLOSE, structuringElement );\n",
    "\n",
    "    structuringElement = cv2.getStructuringElement(cv2.MORPH_ELLIPSE, (3,3))\n",
    "    dilated = cv2.morphologyEx(edged, cv2.MORPH_DILATE, structuringElement)\n",
    "\n",
    "    contours, _ = cv2.findContours(dilated,cv2.RETR_LIST, cv2.CHAIN_APPROX_SIMPLE)\n",
    "\n",
    "    cv2.imshow('dilated', dilated)\n",
    "    cv2.imshow('canny', edged)\n",
    "    \n",
    "    \n",
    "    print('NUMERO DE CONTORNOS = ', len(contours))\n",
    "\n",
    "    return contours"
   ]
  },
  {
   "cell_type": "code",
   "execution_count": 3,
   "metadata": {},
   "outputs": [],
   "source": [
    "def cross_detection(image):\n",
    "\n",
    "    contours = get_contours(image)\n",
    "\n",
    "    img = image.copy()\n",
    "    cnt_img = image.copy()\n",
    "    cv2.drawContours(cnt_img, contours, -1, (0, 255, 0), 3)\n",
    "    cv2.imshow('cnt', cnt_img)\n",
    "    cv2.waitKey(0)\n",
    "\n",
    "\n",
    "    for i, cnt in enumerate(contours):\n",
    "\n",
    "        print(\"CONTOUR \", i)\n",
    "        \n",
    "        # Aproxima a um poligono\n",
    "\n",
    "        perimeter = cv2.arcLength(cnt, True)\n",
    "        approx = cv2.approxPolyDP(cnt, 0.01*perimeter, True)\n",
    "\n",
    "\n",
    "\n",
    "        hull = cv2.convexHull(cnt, returnPoints=False)\n",
    "        defects = cv2.convexityDefects(cnt, hull)\n",
    "\n",
    "        if defects is None:\n",
    "            continue\n",
    "\n",
    "        print(\"DEF = \", defects.shape[0], '\\t POL = ', len(approx), '\\t', cv2.isContourConvex(cnt))\n",
    "        \n",
    "        \n",
    "        for i in range(defects.shape[0]):\n",
    "            s,e,f,d = defects[i,0]\n",
    "            start = tuple(cnt[s][0])\n",
    "            end = tuple(cnt[e][0])\n",
    "            far = tuple(cnt[f][0])\n",
    "            cv2.line(img,start,end,[0,255,0],2)\n",
    "            cv2.circle(img,far,5,[0,0,255],-1)\n",
    "\n",
    "        \n",
    "        if (8 <= len(approx) <= 14) and (cv2.isContourConvex(cnt) == False):\n",
    "            print('CRUZ DETECTADA')\n",
    "\n",
    "        print('\\n')\n",
    "\n",
    "        # checar convex\n",
    "        # checar numero de vertices\n",
    "    return img\n"
   ]
  },
  {
   "cell_type": "code",
   "execution_count": 4,
   "metadata": {},
   "outputs": [
    {
     "name": "stdout",
     "output_type": "stream",
     "text": [
      "NUMERO DE CONTORNOS =  9\n",
      "CONTOUR  0\n",
      "DEF =  7 \t POL =  2 \t False\n",
      "\n",
      "\n",
      "CONTOUR  1\n",
      "DEF =  15 \t POL =  12 \t False\n",
      "CRUZ DETECTADA\n",
      "\n",
      "\n",
      "CONTOUR  2\n",
      "DEF =  20 \t POL =  12 \t False\n",
      "CRUZ DETECTADA\n",
      "\n",
      "\n",
      "CONTOUR  3\n",
      "DEF =  26 \t POL =  9 \t False\n",
      "CRUZ DETECTADA\n",
      "\n",
      "\n",
      "CONTOUR  4\n",
      "DEF =  7 \t POL =  3 \t False\n",
      "\n",
      "\n",
      "CONTOUR  5\n",
      "DEF =  81 \t POL =  16 \t False\n",
      "\n",
      "\n",
      "CONTOUR  6\n",
      "DEF =  83 \t POL =  16 \t False\n",
      "\n",
      "\n",
      "CONTOUR  7\n",
      "DEF =  21 \t POL =  4 \t False\n",
      "\n",
      "\n",
      "CONTOUR  8\n",
      "DEF =  20 \t POL =  4 \t False\n",
      "\n",
      "\n"
     ]
    }
   ],
   "source": [
    "image = cv2.imread('image/landing_pad_1.png')\n",
    "cv2.imshow('initial_image', image)\n",
    "img = cross_detection(image)\n",
    "cv2.imshow('final_image', img)\n",
    "cv2.waitKey(0)\n"
   ]
  }
 ],
 "metadata": {
  "kernelspec": {
   "display_name": "Python 3",
   "language": "python",
   "name": "python3"
  },
  "language_info": {
   "codemirror_mode": {
    "name": "ipython",
    "version": 3
   },
   "file_extension": ".py",
   "mimetype": "text/x-python",
   "name": "python",
   "nbconvert_exporter": "python",
   "pygments_lexer": "ipython3",
   "version": "3.9.10"
  },
  "orig_nbformat": 4,
  "vscode": {
   "interpreter": {
    "hash": "dd426dfed99da6cb3eeddada32cbe22393fcbce2a3b224045159bf9f02b27406"
   }
  }
 },
 "nbformat": 4,
 "nbformat_minor": 2
}
