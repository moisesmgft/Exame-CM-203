{
 "cells": [
  {
   "cell_type": "code",
   "execution_count": null,
   "metadata": {},
   "outputs": [],
   "source": [
    "import cv2\n",
    "import numpy as np"
   ]
  },
  {
   "cell_type": "code",
   "execution_count": null,
   "metadata": {},
   "outputs": [],
   "source": [
    "def ellipse_detection(img):\n",
    "  img = cv2.medianBlur(img,5)      \n",
    "\n",
    "  circles = cv2.HoughCircles(img,cv2.HOUGH_GRADIENT,.5, 30,\n",
    "                              param1=130,param2=70,minRadius=3)\n",
    "  center = []\n",
    "\n",
    "  if circles is not None:\n",
    "    circles = np.uint16(np.around(circles))\n",
    "    for i in circles[0,:]:\n",
    "      center.append((i[0],i[1]))\n",
    "\n",
    "  return center"
   ]
  },
  {
   "cell_type": "code",
   "execution_count": null,
   "metadata": {},
   "outputs": [],
   "source": [
    "def get_contours(image):\n",
    "    gray = cv2.cvtColor(image, cv2.COLOR_BGR2GRAY)\n",
    "    blur = cv2.GaussianBlur(gray, (7,7), 20)\n",
    "\n",
    "    edged = cv2.Canny(blur,40,100,L2gradient=True)\n",
    "\n",
    "    structuringElement = cv2.getStructuringElement(cv2.MORPH_ELLIPSE, (3,3))\n",
    "    dilated = cv2.morphologyEx(edged, cv2.MORPH_DILATE, structuringElement)\n",
    "\n",
    "    contours, _ = cv2.findContours(dilated,cv2.RETR_LIST, cv2.CHAIN_APPROX_SIMPLE)\n",
    "\n",
    "    return contours"
   ]
  },
  {
   "cell_type": "code",
   "execution_count": null,
   "metadata": {},
   "outputs": [],
   "source": [
    "def get_contour_center(cnt):\n",
    "    \n",
    "    M = cv2.moments(cnt)\n",
    "    cX = int(M['m10'] / M['m00'])\n",
    "    cY = int(M['m01'] / M['m00'])\n",
    "\n",
    "    return (cX,cY)"
   ]
  },
  {
   "cell_type": "code",
   "execution_count": null,
   "metadata": {},
   "outputs": [],
   "source": [
    "def get_k_nearest(poly, point, k=4):\n",
    "    (x,y) = point\n",
    "    return sorted(poly, key=lambda pt: ((pt[0][0] - x)**2 + (pt[0][1] - y)**2))[:k]"
   ]
  },
  {
   "cell_type": "code",
   "execution_count": null,
   "metadata": {},
   "outputs": [],
   "source": [
    "def cross_detection(image):\n",
    "\n",
    "    contours = get_contours(image)\n",
    "\n",
    "    cross_candidates = []\n",
    "\n",
    "    for cnt in contours:\n",
    "\n",
    "        perimeter = cv2.arcLength(cnt, True)\n",
    "        approx = cv2.approxPolyDP(cnt, 0.01*perimeter, True)\n",
    "\n",
    "        hull = cv2.convexHull(cnt, returnPoints=False)\n",
    "        defects = cv2.convexityDefects(cnt, hull)\n",
    "\n",
    "        if defects is None:\n",
    "            continue\n",
    "        \n",
    "        if (8 <= len(approx) <= 14) and (cv2.isContourConvex(cnt) == False):\n",
    "            \n",
    "            center = get_contour_center(cnt)\n",
    "            four_nearest = get_k_nearest(approx, center)\n",
    "\n",
    "            cross_candidates.append((center, four_nearest))\n",
    "\n",
    "    return cross_candidates\n"
   ]
  },
  {
   "cell_type": "code",
   "execution_count": null,
   "metadata": {},
   "outputs": [],
   "source": [
    "def landing_pad_detection(image):\n",
    "    \n",
    "    ellipse_candidates = ellipse_detection(image)\n",
    "    cross_candidates = cross_detection(image)\n",
    "\n",
    "    min_dist = 1e7\n",
    "    points = []\n",
    "\n",
    "    for ellipse_center in ellipse_candidates:\n",
    "        for (cross_center, points_) in cross_candidates:\n",
    "            dist = (ellipse_center[0] - cross_center[0])**2 + (ellipse_center[1] - cross_center[1])**2\n",
    "            if dist < min_dist:\n",
    "                min_dist = dist\n",
    "                points = points_\n",
    "\n",
    "    if len(points) == 0:\n",
    "        return False, []\n",
    "\n",
    "    return True, points"
   ]
  }
 ],
 "metadata": {
  "kernelspec": {
   "display_name": "Python 3",
   "language": "python",
   "name": "python3"
  },
  "language_info": {
   "name": "python",
   "version": "3.9.10 (tags/v3.9.10:f2f3f53, Jan 17 2022, 15:14:21) [MSC v.1929 64 bit (AMD64)]"
  },
  "orig_nbformat": 4,
  "vscode": {
   "interpreter": {
    "hash": "dd426dfed99da6cb3eeddada32cbe22393fcbce2a3b224045159bf9f02b27406"
   }
  }
 },
 "nbformat": 4,
 "nbformat_minor": 2
}
