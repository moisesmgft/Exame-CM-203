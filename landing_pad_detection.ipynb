{
 "cells": [
  {
   "cell_type": "code",
   "execution_count": 72,
   "metadata": {},
   "outputs": [],
   "source": [
    "import cv2\n",
    "import numpy as np"
   ]
  },
  {
   "cell_type": "code",
   "execution_count": 73,
   "metadata": {},
   "outputs": [],
   "source": [
    "def ellipse_detection(img):\n",
    "  \n",
    "  gray = cv2.cvtColor(img, cv2.COLOR_BGR2GRAY)\n",
    "  blur = cv2.GaussianBlur(gray, (7,7), 20)   \n",
    "\n",
    "\n",
    "  circles = cv2.HoughCircles(blur,cv2.HOUGH_GRADIENT,.5, 30,\n",
    "                              param1=130,param2=70,minRadius=3)\n",
    "  center = []\n",
    "\n",
    "  if circles is not None:\n",
    "    circles = np.uint16(np.around(circles))\n",
    "    for i in circles[0,:]:\n",
    "      center.append((i[0],i[1]))\n",
    "\n",
    "  return center"
   ]
  },
  {
   "cell_type": "code",
   "execution_count": 74,
   "metadata": {},
   "outputs": [],
   "source": [
    "def get_contours(image):\n",
    "    gray = cv2.cvtColor(image, cv2.COLOR_BGR2GRAY)\n",
    "    blur = cv2.GaussianBlur(gray, (7,7), 20)\n",
    "\n",
    "    edged = cv2.Canny(blur,40,100,L2gradient=True)\n",
    "\n",
    "    structuringElement = cv2.getStructuringElement(cv2.MORPH_ELLIPSE, (3,3))\n",
    "    dilated = cv2.morphologyEx(edged, cv2.MORPH_DILATE, structuringElement)\n",
    "\n",
    "    contours, _ = cv2.findContours(dilated,cv2.RETR_LIST, cv2.CHAIN_APPROX_SIMPLE)\n",
    "\n",
    "    return contours"
   ]
  },
  {
   "cell_type": "code",
   "execution_count": 75,
   "metadata": {},
   "outputs": [],
   "source": [
    "def get_contour_center(cnt):\n",
    "    \n",
    "    M = cv2.moments(cnt)\n",
    "    cX = int(M['m10'] / M['m00'])\n",
    "    cY = int(M['m01'] / M['m00'])\n",
    "\n",
    "    return (cX,cY)"
   ]
  },
  {
   "cell_type": "code",
   "execution_count": 76,
   "metadata": {},
   "outputs": [],
   "source": [
    "def get_k_nearest(poly, point, k=4):\n",
    "    (x,y) = point\n",
    "    return sorted(poly, key=lambda pt: ((pt[0][0] - x)**2 + (pt[0][1] - y)**2))[:k]"
   ]
  },
  {
   "cell_type": "code",
   "execution_count": 77,
   "metadata": {},
   "outputs": [],
   "source": [
    "def cross_detection(image):\n",
    "\n",
    "    contours = get_contours(image)\n",
    "\n",
    "    cross_candidates = []\n",
    "\n",
    "    for cnt in contours:\n",
    "\n",
    "        perimeter = cv2.arcLength(cnt, True)\n",
    "        approx = cv2.approxPolyDP(cnt, 0.01*perimeter, True)\n",
    "\n",
    "        hull = cv2.convexHull(cnt, returnPoints=False)\n",
    "        defects = cv2.convexityDefects(cnt, hull)\n",
    "\n",
    "        if defects is None:\n",
    "            continue\n",
    "        \n",
    "        if (8 <= len(approx) <= 14) and (cv2.isContourConvex(cnt) == False):\n",
    "            \n",
    "            center = get_contour_center(cnt)\n",
    "            four_nearest = get_k_nearest(approx, center)\n",
    "\n",
    "            cross_candidates.append((center, four_nearest))\n",
    "\n",
    "    return cross_candidates\n"
   ]
  },
  {
   "cell_type": "code",
   "execution_count": 78,
   "metadata": {},
   "outputs": [],
   "source": [
    "def landing_pad_detection(image):\n",
    "    \n",
    "    ellipse_candidates = ellipse_detection(image)\n",
    "    cross_candidates = cross_detection(image)\n",
    "\n",
    "    min_dist = 1e7\n",
    "    points = []\n",
    "    center = []\n",
    "\n",
    "    for ellipse_center in ellipse_candidates:\n",
    "        for (cross_center, points_) in cross_candidates:\n",
    "            dist = (ellipse_center[0] - cross_center[0])**2 + (ellipse_center[1] - cross_center[1])**2\n",
    "            if dist < min_dist:\n",
    "                min_dist = dist\n",
    "                points = points_\n",
    "                center = cross_center\n",
    "\n",
    "    if len(points) == 0:\n",
    "        return False, [], []\n",
    "\n",
    "    return True, points, center"
   ]
  },
  {
   "cell_type": "code",
   "execution_count": 79,
   "metadata": {},
   "outputs": [],
   "source": [
    "matriz_intrinseca = np.array([[3.0214060e+02,   0.0000000e+00,   0.0000000e+00],\n",
    "                              [0.0000000e+00,   3.0202364e+02 ,  0.0000000e+00],\n",
    "                              [1.5870089e+02,   1.1872175e+02,   1.0000000e+00]])"
   ]
  },
  {
   "cell_type": "code",
   "execution_count": 80,
   "metadata": {},
   "outputs": [],
   "source": [
    "def homogeneo_para_cartesiano(vetor_coord_homogenea):\n",
    "    vetor = vetor_coord_homogenea[:-1,:] / vetor_coord_homogenea[-1,0]\n",
    "    return vetor"
   ]
  },
  {
   "cell_type": "code",
   "execution_count": 81,
   "metadata": {},
   "outputs": [],
   "source": [
    "def cartesiano_para_homogeneo(vetor):\n",
    "    vetor_coord_homogenea = np.append(vetor, np.array([[1]]), 0)\n",
    "    return vetor_coord_homogenea"
   ]
  },
  {
   "cell_type": "code",
   "execution_count": 82,
   "metadata": {},
   "outputs": [],
   "source": [
    "def transformacao_projetiva_3d(ponto_projetado_2d_homogeneo, matriz_intrinseca):\n",
    "    ponto3d = np.linalg.inv(matriz_intrinseca) @ ponto_projetado_2d_homogeneo\n",
    "    return ponto3d"
   ]
  },
  {
   "cell_type": "code",
   "execution_count": 83,
   "metadata": {},
   "outputs": [],
   "source": [
    "def pixels2meters(arr):\n",
    "    return arr * 0.0013633547"
   ]
  },
  {
   "cell_type": "code",
   "execution_count": 85,
   "metadata": {},
   "outputs": [
    {
     "data": {
      "text/plain": [
       "-1"
      ]
     },
     "execution_count": 85,
     "metadata": {},
     "output_type": "execute_result"
    }
   ],
   "source": [
    "image = cv2.imread('image/landing_pad_1.png')\n",
    "final_image = cv2.imread('image/landing_pad_1.png')\n",
    "\n",
    "ret, points, center = landing_pad_detection(image)\n",
    "\n",
    "if ret:\n",
    "    for pt in points:\n",
    "        cv2.circle(final_image, (pt[0][0], pt[0][1]), 7, (255, 255, 255), -1)\n",
    "\n",
    "cv2.circle(final_image, (center[0], center[1]), 7, (0, 0, 255), -1)\n",
    "\n",
    "center = np.array(center).reshape(1,2)\n",
    "c_homogeneo = cartesiano_para_homogeneo(center.T)\n",
    "center_3d_pixel = transformacao_projetiva_3d(c_homogeneo, matriz_intrinseca)\n",
    "center_3d = pixels2meters(center_3d_pixel)\n",
    "dst2center = ((center_3d[0][0])**2 + (center_3d[1][0])**2 + (center_3d[2][0])**2)**0.5\n",
    "\n",
    "dst_str = 'DST TO CENTER = ' + '%.*f' % (2, dst2center) + 'm'\n",
    "final_image =  cv2.putText(final_image, dst_str, (50,50), cv2.FONT_HERSHEY_SIMPLEX, \n",
    "                   1, (0,0,255), 2, cv2.LINE_AA)\n",
    "\n",
    "cv2.imshow('initial_image', image)\n",
    "cv2.imshow('final_image', final_image)\n",
    "cv2.waitKey(0)\n"
   ]
  },
  {
   "cell_type": "code",
   "execution_count": 91,
   "metadata": {},
   "outputs": [
    {
     "ename": "AttributeError",
     "evalue": "'NoneType' object has no attribute 'copy'",
     "output_type": "error",
     "traceback": [
      "\u001b[1;31m---------------------------------------------------------------------------\u001b[0m",
      "\u001b[1;31mAttributeError\u001b[0m                            Traceback (most recent call last)",
      "\u001b[1;32m~\\AppData\\Local\\Temp/ipykernel_20192/1602465520.py\u001b[0m in \u001b[0;36m<module>\u001b[1;34m\u001b[0m\n\u001b[0;32m      6\u001b[0m \u001b[1;32mwhile\u001b[0m\u001b[1;33m(\u001b[0m\u001b[0mcap\u001b[0m\u001b[1;33m.\u001b[0m\u001b[0misOpened\u001b[0m\u001b[1;33m(\u001b[0m\u001b[1;33m)\u001b[0m\u001b[1;33m)\u001b[0m\u001b[1;33m:\u001b[0m\u001b[1;33m\u001b[0m\u001b[1;33m\u001b[0m\u001b[0m\n\u001b[0;32m      7\u001b[0m     \u001b[0mret\u001b[0m\u001b[1;33m,\u001b[0m \u001b[0mimage\u001b[0m \u001b[1;33m=\u001b[0m \u001b[0mcap\u001b[0m\u001b[1;33m.\u001b[0m\u001b[0mread\u001b[0m\u001b[1;33m(\u001b[0m\u001b[1;33m)\u001b[0m\u001b[1;33m\u001b[0m\u001b[1;33m\u001b[0m\u001b[0m\n\u001b[1;32m----> 8\u001b[1;33m     \u001b[0mfinal_image\u001b[0m \u001b[1;33m=\u001b[0m \u001b[0mimage\u001b[0m\u001b[1;33m.\u001b[0m\u001b[0mcopy\u001b[0m\u001b[1;33m(\u001b[0m\u001b[1;33m)\u001b[0m\u001b[1;33m\u001b[0m\u001b[1;33m\u001b[0m\u001b[0m\n\u001b[0m\u001b[0;32m      9\u001b[0m     \u001b[1;32mif\u001b[0m \u001b[0mret\u001b[0m \u001b[1;33m==\u001b[0m \u001b[1;32mTrue\u001b[0m\u001b[1;33m:\u001b[0m\u001b[1;33m\u001b[0m\u001b[1;33m\u001b[0m\u001b[0m\n\u001b[0;32m     10\u001b[0m         \u001b[0mretval\u001b[0m\u001b[1;33m,\u001b[0m \u001b[0mpoints\u001b[0m\u001b[1;33m,\u001b[0m \u001b[0mcenter\u001b[0m \u001b[1;33m=\u001b[0m \u001b[0mlanding_pad_detection\u001b[0m\u001b[1;33m(\u001b[0m\u001b[0mimage\u001b[0m\u001b[1;33m)\u001b[0m\u001b[1;33m\u001b[0m\u001b[1;33m\u001b[0m\u001b[0m\n",
      "\u001b[1;31mAttributeError\u001b[0m: 'NoneType' object has no attribute 'copy'"
     ]
    }
   ],
   "source": [
    "cap = cv2.VideoCapture('video/landing_pad.avi')\n",
    " \n",
    "if (cap.isOpened()== False): \n",
    "    print(\"Error opening video stream or file\")\n",
    " \n",
    "while(cap.isOpened()):\n",
    "    ret, image = cap.read()\n",
    "    final_image = image.copy()\n",
    "    if ret == True:\n",
    "        retval, points, center = landing_pad_detection(image)\n",
    "\n",
    "        if not retval:\n",
    "            continue\n",
    "\n",
    "        for pt in points:\n",
    "    \n",
    "            cv2.circle(final_image, (pt[0][0], pt[0][1]), 7, (255, 255, 255), -1)\n",
    "\n",
    "        cv2.circle(final_image, (center[0], center[1]), 7, (0, 0, 255), -1)\n",
    "\n",
    "        center = np.array(center).reshape(1,2)\n",
    "        c_homogeneo = cartesiano_para_homogeneo(center.T)\n",
    "        center_3d_pixel = transformacao_projetiva_3d(c_homogeneo, matriz_intrinseca)\n",
    "        center_3d = pixels2meters(center_3d_pixel)\n",
    "        dst2center = ((center_3d[0][0])**2 + (center_3d[1][0])**2 + (center_3d[2][0])**2)**0.5\n",
    "\n",
    "        dst_str = 'DST TO CENTER = ' + '%.*f' % (2, dst2center) + 'm'\n",
    "        final_image =  cv2.putText(final_image, dst_str, (50,50), cv2.FONT_HERSHEY_SIMPLEX, \n",
    "                        1, (0,0,255), 2, cv2.LINE_AA)\n",
    "\n",
    "        cv2.imshow('initial_image', image)\n",
    "        cv2.imshow('final_image', final_image)\n",
    "    \n",
    "\n",
    "        if cv2.waitKey(25) & 0xFF == ord('q'):\n",
    "            break\n",
    " \n",
    "    else: \n",
    "        break\n",
    " \n",
    "cap.release()\n",
    "cv2.destroyAllWindows()"
   ]
  }
 ],
 "metadata": {
  "kernelspec": {
   "display_name": "Python 3",
   "language": "python",
   "name": "python3"
  },
  "language_info": {
   "codemirror_mode": {
    "name": "ipython",
    "version": 3
   },
   "file_extension": ".py",
   "mimetype": "text/x-python",
   "name": "python",
   "nbconvert_exporter": "python",
   "pygments_lexer": "ipython3",
   "version": "3.9.10 (tags/v3.9.10:f2f3f53, Jan 17 2022, 15:14:21) [MSC v.1929 64 bit (AMD64)]"
  },
  "orig_nbformat": 4,
  "vscode": {
   "interpreter": {
    "hash": "dd426dfed99da6cb3eeddada32cbe22393fcbce2a3b224045159bf9f02b27406"
   }
  }
 },
 "nbformat": 4,
 "nbformat_minor": 2
}
