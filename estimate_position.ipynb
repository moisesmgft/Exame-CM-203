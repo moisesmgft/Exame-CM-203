{
  "nbformat": 4,
  "nbformat_minor": 0,
  "metadata": {
    "colab": {
      "provenance": []
    },
    "kernelspec": {
      "name": "python3",
      "display_name": "Python 3"
    },
    "language_info": {
      "name": "python"
    }
  },
  "cells": [
    {
      "cell_type": "code",
      "execution_count": 2,
      "metadata": {
        "id": "U8oGmvNefVeT"
      },
      "outputs": [],
      "source": [
        "import numpy as np"
      ]
    },
    {
      "cell_type": "code",
      "source": [
        "matriz_intrinseca = np.array([[3.0214060e+02,   0.0000000e+00,   0.0000000e+00],\n",
        "                              [0.0000000e+00,   3.0202364e+02 ,  0.0000000e+00],\n",
        "                              [1.5870089e+02,   1.1872175e+02,   1.0000000e+00]])"
      ],
      "metadata": {
        "id": "TVUe8TA1qjaf"
      },
      "execution_count": 4,
      "outputs": []
    },
    {
      "cell_type": "code",
      "source": [
        "def homogeneo_para_cartesiano(vetor_coord_homogenea):\n",
        "    vetor = vetor_coord_homogenea[:-1,:] / vetor_coord_homogenea[-1,0]\n",
        "    return vetor"
      ],
      "metadata": {
        "id": "Y22bzFpvq9US"
      },
      "execution_count": 5,
      "outputs": []
    },
    {
      "cell_type": "code",
      "source": [
        "def cartesiano_para_homogeneo(vetor):\n",
        "    vetor_coord_homogenea = np.append(vetor, np.array([[1]]), 0)\n",
        "    return vetor_coord_homogenea"
      ],
      "metadata": {
        "id": "VS4jMM4zwHkK"
      },
      "execution_count": 6,
      "outputs": []
    },
    {
      "cell_type": "code",
      "source": [
        "def transformacao_projetiva_3d(ponto_projetado_2d_homogeneo, matriz_intrinseca):\n",
        "    ponto3d = np.linalg.inv(matriz_intrinseca) @ ponto_projetado_2d_homogeneo\n",
        "    return ponto3d"
      ],
      "metadata": {
        "id": "JPfTe0TQwMNt"
      },
      "execution_count": 9,
      "outputs": []
    },
    {
      "cell_type": "code",
      "source": [
        "cross_points = np.array([[[1, 2]], [[3, 4]], [[5, 6]], [[7, 8]]]) #exemplo\n",
        "cross_points3d = []\n",
        "for point2d in cross_points:\n",
        "  point_homogeneo = cartesiano_para_homogeneo(point2d.T)\n",
        "  point3d = transformacao_projetiva_3d(point_homogeneo, matriz_intrinseca)\n",
        "  cross_points3d.append(point3d)\n",
        "\n",
        "cross_points3d = np.array(cross_points3d)"
      ],
      "metadata": {
        "colab": {
          "base_uri": "https://localhost:8080/"
        },
        "id": "qDOh7_CIwvDz",
        "outputId": "55833762-a704-4828-e4b2-7d56fc00104e"
      },
      "execution_count": 11,
      "outputs": [
        {
          "output_type": "stream",
          "name": "stdout",
          "text": [
            "[[[ 3.30971740e-03]\n",
            "  [ 6.62199820e-03]\n",
            "  [-3.11430311e-01]]\n",
            "\n",
            " [[ 9.92915219e-03]\n",
            "  [ 1.32439964e-02]\n",
            "  [-2.14811572e+00]]\n",
            "\n",
            " [[ 1.65485870e-02]\n",
            "  [ 1.98659946e-02]\n",
            "  [-3.98480113e+00]]\n",
            "\n",
            " [[ 2.31680218e-02]\n",
            "  [ 2.64879928e-02]\n",
            "  [-5.82148653e+00]]]\n"
          ]
        }
      ]
    },
    {
      "cell_type": "code",
      "source": [
        "distances = np.array([np.linalg.norm(point3d) for point3d in cross_points3d])"
      ],
      "metadata": {
        "colab": {
          "base_uri": "https://localhost:8080/"
        },
        "id": "uhLFQ14zy7c7",
        "outputId": "be00ff14-9951-41d4-c2e3-2180d6a24bee"
      },
      "execution_count": 13,
      "outputs": [
        {
          "output_type": "stream",
          "name": "stdout",
          "text": [
            "[0.31151829 2.14817949 3.98488501 5.82159289]\n"
          ]
        }
      ]
    },
    {
      "cell_type": "markdown",
      "source": [
        "Por convenção, escolhe-se a primeira distância"
      ],
      "metadata": {
        "id": "r3Hr4n79z5oy"
      }
    },
    {
      "cell_type": "code",
      "source": [
        "print(distances[0])"
      ],
      "metadata": {
        "colab": {
          "base_uri": "https://localhost:8080/"
        },
        "id": "47PXgt93z_VF",
        "outputId": "20fd6b61-b62d-41da-8be2-b9dd914e725d"
      },
      "execution_count": 14,
      "outputs": [
        {
          "output_type": "stream",
          "name": "stdout",
          "text": [
            "0.3115182880016871\n"
          ]
        }
      ]
    }
  ]
}